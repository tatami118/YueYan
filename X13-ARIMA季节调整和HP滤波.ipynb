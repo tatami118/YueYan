{
 "cells": [
  {
   "cell_type": "code",
   "execution_count": 3,
   "metadata": {},
   "outputs": [
    {
     "name": "stderr",
     "output_type": "stream",
     "text": [
      "c:\\Python\\Python37\\lib\\site-packages\\openpyxl\\worksheet\\_reader.py:329: UserWarning: Unknown extension is not supported and will be removed\n",
      "  warn(msg)\n",
      "c:\\Python\\Python37\\lib\\site-packages\\openpyxl\\worksheet\\_reader.py:329: UserWarning: Conditional Formatting extension is not supported and will be removed\n",
      "  warn(msg)\n"
     ]
    }
   ],
   "source": [
    "import os\n",
    "os.environ['X13PATH'] = r'C:\\x13as'\n",
    "\n",
    "\n",
    "import pandas as pd\n",
    "from statsmodels.tsa.x13 import x13_arima_analysis\n",
    "from statsmodels.tsa.seasonal import seasonal_decompose\n",
    "\n",
    "# 读取时间序列数据\n",
    "data = pd.read_excel('dataset.xlsx',sheet_name='Sheet1')\n",
    "data_e = data['出口剔除价格']\n",
    "data_e.index=pd.to_datetime(data['年月日'])\n",
    "\n",
    "data_e = pd.Series(data_e.values, index=pd.date_range(start='2017-01-01', periods=len(data_e), freq='MS'))\n",
    "\n",
    "result = x13_arima_analysis(data_e)\n",
    "seasonal = result.seasadj\n"
   ]
  }
 ],
 "metadata": {
  "kernelspec": {
   "display_name": "Python 3",
   "language": "python",
   "name": "python3"
  },
  "language_info": {
   "codemirror_mode": {
    "name": "ipython",
    "version": 3
   },
   "file_extension": ".py",
   "mimetype": "text/x-python",
   "name": "python",
   "nbconvert_exporter": "python",
   "pygments_lexer": "ipython3",
   "version": "3.7.9"
  },
  "orig_nbformat": 4,
  "vscode": {
   "interpreter": {
    "hash": "1f2ac25b4a6d870602abfa5d74e7d6f1ae274ba9e86645830384575c0e5c89f3"
   }
  }
 },
 "nbformat": 4,
 "nbformat_minor": 2
}
